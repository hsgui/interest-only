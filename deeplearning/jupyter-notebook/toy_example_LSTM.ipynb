{
 "cells": [
  {
   "cell_type": "code",
   "execution_count": null,
   "metadata": {
    "collapsed": true
   },
   "outputs": [],
   "source": [
    "'''\n",
    "http://iamtrask.github.io/2015/11/15/anyone-can-code-lstm/\n",
    "'''"
   ]
  },
  {
   "cell_type": "code",
   "execution_count": 1,
   "metadata": {
    "collapsed": true
   },
   "outputs": [],
   "source": [
    "import copy, numpy as np"
   ]
  },
  {
   "cell_type": "code",
   "execution_count": 2,
   "metadata": {
    "collapsed": true
   },
   "outputs": [],
   "source": [
    "np.random.seed(0)"
   ]
  },
  {
   "cell_type": "code",
   "execution_count": 3,
   "metadata": {
    "collapsed": true
   },
   "outputs": [],
   "source": [
    "def sigmoid(x):\n",
    "    output = 1 / (1 + np.exp(-x))\n",
    "    return output\n",
    "\n",
    "def sigmoid_output_to_derivative(output):\n",
    "    return output * (1 - output)"
   ]
  },
  {
   "cell_type": "code",
   "execution_count": 4,
   "metadata": {
    "collapsed": true
   },
   "outputs": [],
   "source": [
    "# training dataset generation\n",
    "int2binary = {}\n",
    "binary_dim = 8\n",
    "\n",
    "largest_number = pow(2, binary_dim)\n",
    "binary = np.unpackbits(np.array([range(largest_number)], dtype=np.uint8).T, axis = 1)\n",
    "for i in range(largest_number):\n",
    "    int2binary[i] = binary[i]"
   ]
  },
  {
   "cell_type": "code",
   "execution_count": 5,
   "metadata": {
    "collapsed": false
   },
   "outputs": [
    {
     "data": {
      "text/plain": [
       "256"
      ]
     },
     "execution_count": 5,
     "metadata": {},
     "output_type": "execute_result"
    }
   ],
   "source": [
    "pow(2, binary_dim)"
   ]
  },
  {
   "cell_type": "code",
   "execution_count": 6,
   "metadata": {
    "collapsed": false
   },
   "outputs": [
    {
     "data": {
      "text/plain": [
       "array([[  0,   1,   2,   3,   4,   5,   6,   7,   8,   9,  10,  11,  12,\n",
       "         13,  14,  15,  16,  17,  18,  19,  20,  21,  22,  23,  24,  25,\n",
       "         26,  27,  28,  29,  30,  31,  32,  33,  34,  35,  36,  37,  38,\n",
       "         39,  40,  41,  42,  43,  44,  45,  46,  47,  48,  49,  50,  51,\n",
       "         52,  53,  54,  55,  56,  57,  58,  59,  60,  61,  62,  63,  64,\n",
       "         65,  66,  67,  68,  69,  70,  71,  72,  73,  74,  75,  76,  77,\n",
       "         78,  79,  80,  81,  82,  83,  84,  85,  86,  87,  88,  89,  90,\n",
       "         91,  92,  93,  94,  95,  96,  97,  98,  99, 100, 101, 102, 103,\n",
       "        104, 105, 106, 107, 108, 109, 110, 111, 112, 113, 114, 115, 116,\n",
       "        117, 118, 119, 120, 121, 122, 123, 124, 125, 126, 127, 128, 129,\n",
       "        130, 131, 132, 133, 134, 135, 136, 137, 138, 139, 140, 141, 142,\n",
       "        143, 144, 145, 146, 147, 148, 149, 150, 151, 152, 153, 154, 155,\n",
       "        156, 157, 158, 159, 160, 161, 162, 163, 164, 165, 166, 167, 168,\n",
       "        169, 170, 171, 172, 173, 174, 175, 176, 177, 178, 179, 180, 181,\n",
       "        182, 183, 184, 185, 186, 187, 188, 189, 190, 191, 192, 193, 194,\n",
       "        195, 196, 197, 198, 199, 200, 201, 202, 203, 204, 205, 206, 207,\n",
       "        208, 209, 210, 211, 212, 213, 214, 215, 216, 217, 218, 219, 220,\n",
       "        221, 222, 223, 224, 225, 226, 227, 228, 229, 230, 231, 232, 233,\n",
       "        234, 235, 236, 237, 238, 239, 240, 241, 242, 243, 244, 245, 246,\n",
       "        247, 248, 249, 250, 251, 252, 253, 254, 255]], dtype=uint8)"
      ]
     },
     "execution_count": 6,
     "metadata": {},
     "output_type": "execute_result"
    }
   ],
   "source": [
    "np.array([range(256)], dtype=np.uint8)"
   ]
  },
  {
   "cell_type": "code",
   "execution_count": 7,
   "metadata": {
    "collapsed": false
   },
   "outputs": [
    {
     "data": {
      "text/plain": [
       "array([[0, 0, 0, ..., 0, 0, 0],\n",
       "       [0, 0, 0, ..., 0, 0, 1],\n",
       "       [0, 0, 0, ..., 0, 1, 0],\n",
       "       ..., \n",
       "       [1, 1, 1, ..., 1, 0, 1],\n",
       "       [1, 1, 1, ..., 1, 1, 0],\n",
       "       [1, 1, 1, ..., 1, 1, 1]], dtype=uint8)"
      ]
     },
     "execution_count": 7,
     "metadata": {},
     "output_type": "execute_result"
    }
   ],
   "source": [
    "np.unpackbits(np.array([range(256)], dtype=np.uint8).T, axis = 1)"
   ]
  },
  {
   "cell_type": "code",
   "execution_count": 8,
   "metadata": {
    "collapsed": true
   },
   "outputs": [],
   "source": [
    "# input variables\n",
    "alpha = 0.1\n",
    "input_dim = 2\n",
    "hidden_dim = 16\n",
    "output_dim = 1"
   ]
  },
  {
   "cell_type": "code",
   "execution_count": 20,
   "metadata": {
    "collapsed": true
   },
   "outputs": [],
   "source": [
    "# initialize neural network weights\n",
    "syn_0 = 2 * np.random.random((input_dim, hidden_dim)) - 1\n",
    "syn_1 = 2 * np.random.random((hidden_dim, output_dim)) - 1\n",
    "syn_h = 2 * np.random.random((hidden_dim, hidden_dim)) - 1"
   ]
  },
  {
   "cell_type": "code",
   "execution_count": 21,
   "metadata": {
    "collapsed": true
   },
   "outputs": [],
   "source": [
    "syn_0_update = np.zeros_like(syn_0)\n",
    "syn_1_update = np.zeros_like(syn_1)\n",
    "syn_h_update = np.zeros_like(syn_h)"
   ]
  },
  {
   "cell_type": "code",
   "execution_count": 22,
   "metadata": {
    "collapsed": false,
    "scrolled": true
   },
   "outputs": [
    {
     "name": "stdout",
     "output_type": "stream",
     "text": [
      "Error:  1.04679338382\n",
      "Pred:  [0 0 0 0 0 0 0 1]\n",
      "True:  [0 1 1 1 1 0 0 1]\n",
      "43  +  78  =  1\n",
      "----------\n",
      "Error:  1.11273823275\n",
      "Pred:  [0 1 1 1 1 1 0 1]\n",
      "True:  [1 0 0 1 0 1 0 0]\n",
      "22  +  126  =  125\n",
      "----------\n",
      "Error:  0.847013893305\n",
      "Pred:  [0 1 0 1 0 0 0 0]\n",
      "True:  [0 1 0 1 1 0 0 1]\n",
      "41  +  48  =  80\n",
      "----------\n",
      "Error:  0.230761729471\n",
      "Pred:  [1 0 0 0 0 0 1 0]\n",
      "True:  [1 0 0 0 0 0 1 0]\n",
      "95  +  35  =  130\n",
      "----------\n",
      "Error:  0.0128427033786\n",
      "Pred:  [0 1 1 1 0 1 1 0]\n",
      "True:  [0 1 1 1 0 1 1 0]\n",
      "9  +  109  =  118\n",
      "----------\n",
      "Error:  0.0037268223704\n",
      "Pred:  [0 1 0 1 0 1 1 0]\n",
      "True:  [0 1 0 1 0 1 1 0]\n",
      "81  +  5  =  86\n",
      "----------\n"
     ]
    }
   ],
   "source": [
    "# training logic:\n",
    "for j in range(10001):\n",
    "    # generate a simple addition problem (a + b = c)\n",
    "    a_int = np.random.randint(largest_number / 2)\n",
    "    a = int2binary[a_int] # binary encoding\n",
    "    \n",
    "    b_int = np.random.randint(largest_number / 2)\n",
    "    b = int2binary[b_int]\n",
    "    \n",
    "    c_int = a_int + b_int\n",
    "    c = int2binary[c_int]\n",
    "    \n",
    "    # where we'll store our best guess (binary encoded)\n",
    "    d = np.zeros_like(c)\n",
    "    \n",
    "    overallError = 0\n",
    "    \n",
    "    layer_2_deltas = list()\n",
    "    layer_1_values = list()\n",
    "    layer_1_values.append(np.zeros(hidden_dim))\n",
    "    \n",
    "    # moving along the positions in the binary encoding\n",
    "    for position in range(binary_dim):\n",
    "        # generate input and output\n",
    "        X = np.array([[a[binary_dim - position - 1], b[binary_dim - position - 1]]])\n",
    "        y = np.array([[c[binary_dim - position - 1]]]).T\n",
    "        \n",
    "        # hidden layer (input + prev_hidden)\n",
    "        layer_1 = sigmoid(np.dot(X, syn_0) + np.dot(layer_1_values[-1], syn_h))\n",
    "        \n",
    "        #output layer\n",
    "        layer_2 = sigmoid(np.dot(layer_1, syn_1))\n",
    "        \n",
    "        # error\n",
    "        cost = np.sum(np.square(y - layer_2))/2\n",
    "        layer_2_error = layer_2 - y\n",
    "        layer_2_delta = layer_2_error * sigmoid_output_to_derivative(layer_2)\n",
    "        layer_2_deltas.append(layer_2_delta)\n",
    "        overallError += cost\n",
    "        \n",
    "        # decode estimate so we could print it out\n",
    "        d[binary_dim - position - 1] = np.round(layer_2[0][0])\n",
    "        \n",
    "        #store hidden layer so we could use it in the ndex timestamp\n",
    "        layer_1_values.append(copy.deepcopy(layer_1))\n",
    "        \n",
    "    future_layer_1_delta = np.zeros(hidden_dim)\n",
    "    \n",
    "    for position in range(binary_dim):\n",
    "        \n",
    "        X = np.array([[a[position], b[position]]])\n",
    "        layer_1 = layer_1_values[-1 - position]\n",
    "        pre_layer_1 = layer_1_values[-1 -position -1]\n",
    "        \n",
    "        # error at output layer\n",
    "        layer_2_delta = layer_2_deltas[-1 - position]\n",
    "        \n",
    "        # error at hidden layer\n",
    "        # 1. hidden layer (layer_1) passed to output layer\n",
    "        # 2. hidden layer (layer_1) also passed to hidden layer itself in next timestamp\n",
    "        layer_1_delta = (layer_2_delta.dot(syn_1.T) + future_layer_1_delta.dot(syn_h.T)) * sigmoid_output_to_derivative(layer_1)\n",
    "        \n",
    "        syn_1_update += np.atleast_2d(layer_1).T.dot(layer_2_delta)\n",
    "        \n",
    "        syn_h_update += np.atleast_2d(pre_layer_1).T.dot(layer_1_delta)\n",
    "        syn_0_update += X.T.dot(layer_1_delta)\n",
    "        \n",
    "        future_layer_1_delta = layer_1_delta\n",
    "        \n",
    "    syn_0 -= syn_0_update * alpha\n",
    "    syn_1 -= syn_1_update * alpha\n",
    "    syn_h -= syn_h_update * alpha\n",
    "    \n",
    "    syn_0_update *= 0\n",
    "    syn_1_update *= 0\n",
    "    syn_h_update *= 0\n",
    "    \n",
    "    # print out progress\n",
    "    if (j % 2000 == 0):\n",
    "        print(\"Error: \", overallError)\n",
    "        print(\"Pred: \", d)\n",
    "        print(\"True: \", c)\n",
    "        out = 0\n",
    "        for index, x in enumerate(reversed(d)):\n",
    "            out += x * pow(2, index)\n",
    "        print(a_int, \" + \", b_int, \" = \", out)\n",
    "        print(\"----------\")"
   ]
  }
 ],
 "metadata": {
  "kernelspec": {
   "display_name": "Python 3",
   "language": "python",
   "name": "python3"
  },
  "language_info": {
   "codemirror_mode": {
    "name": "ipython",
    "version": 3
   },
   "file_extension": ".py",
   "mimetype": "text/x-python",
   "name": "python",
   "nbconvert_exporter": "python",
   "pygments_lexer": "ipython3",
   "version": "3.5.2"
  }
 },
 "nbformat": 4,
 "nbformat_minor": 2
}
