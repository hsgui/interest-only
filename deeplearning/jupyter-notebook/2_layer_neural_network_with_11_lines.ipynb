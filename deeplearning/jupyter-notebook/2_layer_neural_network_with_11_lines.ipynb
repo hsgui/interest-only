{
 "cells": [
  {
   "cell_type": "code",
   "execution_count": 6,
   "metadata": {
    "collapsed": false
   },
   "outputs": [
    {
     "data": {
      "text/plain": [
       "'\\nhttp://iamtrask.github.io/2015/07/12/basic-python-network/\\n'"
      ]
     },
     "execution_count": 6,
     "metadata": {},
     "output_type": "execute_result"
    }
   ],
   "source": [
    "'''\n",
    "http://iamtrask.github.io/2015/07/12/basic-python-network/\n",
    "'''"
   ]
  },
  {
   "cell_type": "code",
   "execution_count": 1,
   "metadata": {
    "collapsed": true
   },
   "outputs": [],
   "source": [
    "import numpy as np"
   ]
  },
  {
   "cell_type": "code",
   "execution_count": 2,
   "metadata": {
    "collapsed": true
   },
   "outputs": [],
   "source": [
    "X = np.array([ [0, 0, 1], [0, 1, 1], [1, 0, 1], [1, 1, 1] ])"
   ]
  },
  {
   "cell_type": "code",
   "execution_count": 3,
   "metadata": {
    "collapsed": true
   },
   "outputs": [],
   "source": [
    "Y = np.array([ [0, 1, 1, 0] ]).T"
   ]
  },
  {
   "cell_type": "code",
   "execution_count": 4,
   "metadata": {
    "collapsed": true
   },
   "outputs": [],
   "source": [
    "syn0 = 2 * np.random.random( (3, 4) ) - 1"
   ]
  },
  {
   "cell_type": "code",
   "execution_count": 5,
   "metadata": {
    "collapsed": true
   },
   "outputs": [],
   "source": [
    "syn1 = 2 * np.random.random( (4, 1) ) - 1"
   ]
  },
  {
   "cell_type": "code",
   "execution_count": 31,
   "metadata": {
    "collapsed": false
   },
   "outputs": [],
   "source": [
    "for j in range(60000):\n",
    "    l1 = 1 / (1 + np.exp(- (np.dot(X, syn0))))\n",
    "    l2 = 1 / (1 + np.exp(- (np.dot(l1, syn1))))\n",
    "    l2_deta = (Y - l2) * (l2 * (1 - l2))\n",
    "    l1_deta = l2_deta.dot(syn1.T) * (l1 * (1 - l1))\n",
    "    syn1 += l1.T.dot(l2_deta)\n",
    "    syn0 += X.T.dot(l1_deta)"
   ]
  },
  {
   "cell_type": "code",
   "execution_count": 7,
   "metadata": {
    "collapsed": true
   },
   "outputs": [],
   "source": [
    "def nonlin(x, deriv = False):\n",
    "    if (deriv == True):\n",
    "        return x * (1-x)\n",
    "    return 1 / (1 + np.exp(-x))"
   ]
  },
  {
   "cell_type": "code",
   "execution_count": 8,
   "metadata": {
    "collapsed": true
   },
   "outputs": [],
   "source": [
    "# input dataset\n",
    "X1 = np.array([ [0, 0, 1],\n",
    "              [0, 1, 1],\n",
    "              [1, 0, 1],\n",
    "              [1, 1, 1] ])"
   ]
  },
  {
   "cell_type": "code",
   "execution_count": 9,
   "metadata": {
    "collapsed": true
   },
   "outputs": [],
   "source": [
    "# output dataset\n",
    "y1 = np.array([ [ 0, 0, 1, 1]]).T"
   ]
  },
  {
   "cell_type": "code",
   "execution_count": 10,
   "metadata": {
    "collapsed": true
   },
   "outputs": [],
   "source": [
    "# seed random numbers to make calcualtion deterministic (just a good practice)\n",
    "np.random.seed(1)"
   ]
  },
  {
   "cell_type": "code",
   "execution_count": 11,
   "metadata": {
    "collapsed": true
   },
   "outputs": [],
   "source": [
    "# initialize weights randomly with mean 0\n",
    "s0 = 2 * np.random.random( (3, 1) ) - 1"
   ]
  },
  {
   "cell_type": "code",
   "execution_count": 22,
   "metadata": {
    "collapsed": false
   },
   "outputs": [
    {
     "name": "stdout",
     "output_type": "stream",
     "text": [
      "output after traininig:\n",
      "[[ 0.0040021 ]\n",
      " [ 0.00297283]\n",
      " [ 0.99757913]\n",
      " [ 0.99674033]]\n",
      "[[ 11.5381446 ]\n",
      " [ -0.29833737]\n",
      " [ -5.5169334 ]]\n"
     ]
    }
   ],
   "source": [
    "for iter in range(10000):\n",
    "    # forward propagation\n",
    "    l0 = X1\n",
    "    l1 = nonlin(np.dot(l0, s0))\n",
    "    \n",
    "    # how much did we miss?\n",
    "    l1_error = y1 - l1\n",
    "    \n",
    "    # multiply how much we missed by the slope of the sigmoid at the values in l1\n",
    "    # mathmatically, d(loss)/dw = - (d(l1)/dw) = - nonlin(l1) * l0\n",
    "    l1_deta = l1_error * nonlin(l1 , True)\n",
    "    \n",
    "    # update the weights\n",
    "    # mathmatically, s0 -= d(loss)/dw\n",
    "    s0 += np.dot(l0.T, l1_deta)\n",
    "    \n",
    "print(\"output after traininig:\")\n",
    "print(l1)\n",
    "print(s0)"
   ]
  },
  {
   "cell_type": "code",
   "execution_count": 23,
   "metadata": {
    "collapsed": true
   },
   "outputs": [],
   "source": [
    "X2 = np.array([ [0, 0, 1],\n",
    "              [0, 1, 1],\n",
    "              [1, 0, 1],\n",
    "              [1, 1, 1]])"
   ]
  },
  {
   "cell_type": "code",
   "execution_count": 24,
   "metadata": {
    "collapsed": true
   },
   "outputs": [],
   "source": [
    "y2 = np.array( [[0, 1, 1, 0]]).T"
   ]
  },
  {
   "cell_type": "code",
   "execution_count": 25,
   "metadata": {
    "collapsed": true
   },
   "outputs": [],
   "source": [
    "sy0 = 2 * np.random.random( (3, 4) ) - 1\n",
    "sy1 = 2 * np.random.random( (4, 1) ) - 1"
   ]
  },
  {
   "cell_type": "code",
   "execution_count": 29,
   "metadata": {
    "collapsed": false
   },
   "outputs": [
    {
     "name": "stdout",
     "output_type": "stream",
     "text": [
      "Error:0.499441740099\n",
      "Error:0.0109962761993\n",
      "Error:0.00742138802019\n",
      "Error:0.00593720036234\n",
      "Error:0.00507862622414\n",
      "Error:0.0045034259747\n"
     ]
    }
   ],
   "source": [
    "for j in range(60000):\n",
    "    # feed forward through layers 0, 1, and 2\n",
    "    l0 = X2\n",
    "    l1 = nonlin(np.dot(l0, sy0))\n",
    "    l2 = nonlin(np.dot(l1, sy1))\n",
    "    \n",
    "    # how much did we miss the target value\n",
    "    l2_error = y2 - l2\n",
    "    if (j % 10000) == 0:\n",
    "        print(\"Error:\" + str(np.mean(np.abs(l2_error))))\n",
    "    \n",
    "    # in what direction is the target value?\n",
    "    # were we really sure? if so, don't change too much.\n",
    "    l2_deta = l2_error * nonlin(l2, deriv = True)\n",
    "    \n",
    "    # how much did each l1 value contribute to the l2 error\n",
    "    # according to the weights?\n",
    "    l1_error = l2_deta.dot(sy1.T)\n",
    "    \n",
    "    l1_deta = l1_error * nonlin(l1, deriv = True)\n",
    "    sy1 += l1.T.dot(l2_deta)\n",
    "    sy0 += l0.T.dot(l1_deta)"
   ]
  }
 ],
 "metadata": {
  "kernelspec": {
   "display_name": "Python 3",
   "language": "python",
   "name": "python3"
  },
  "language_info": {
   "codemirror_mode": {
    "name": "ipython",
    "version": 3
   },
   "file_extension": ".py",
   "mimetype": "text/x-python",
   "name": "python",
   "nbconvert_exporter": "python",
   "pygments_lexer": "ipython3",
   "version": "3.5.2"
  }
 },
 "nbformat": 4,
 "nbformat_minor": 2
}
