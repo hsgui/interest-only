{
 "cells": [
  {
   "cell_type": "code",
   "execution_count": 1,
   "metadata": {
    "collapsed": false
   },
   "outputs": [
    {
     "data": {
      "text/plain": [
       "'\\nhttp://iamtrask.github.io/2015/07/27/python-network-part2/\\n'"
      ]
     },
     "execution_count": 1,
     "metadata": {},
     "output_type": "execute_result"
    }
   ],
   "source": [
    "'''\n",
    "http://iamtrask.github.io/2015/07/27/python-network-part2/\n",
    "'''"
   ]
  },
  {
   "cell_type": "code",
   "execution_count": 1,
   "metadata": {
    "collapsed": true
   },
   "outputs": [],
   "source": [
    "import numpy as np"
   ]
  },
  {
   "cell_type": "code",
   "execution_count": 9,
   "metadata": {
    "collapsed": true
   },
   "outputs": [],
   "source": [
    "X = np.array([ [0,0,1],[0,1,1],[1,0,1],[1,1,1] ])\n",
    "y = np.array([[0,1,1,0]]).T\n",
    "alpha, hidden_dim = (0.5, 4)\n",
    "synapse_0 = 2*np.random.random((3,hidden_dim)) - 1\n",
    "synapse_1 = 2*np.random.random((hidden_dim,1)) - 1\n",
    "for j in range(60000):\n",
    "    layer_1 = 1 / (1 + np.exp(-(np.dot(X,synapse_0))))\n",
    "    layer_2 = 1 / (1 + np.exp(-(np.dot(layer_1,synapse_1))))\n",
    "    layer_2_delta = (layer_2 - y) * (layer_2*(1-layer_2))\n",
    "    layer_1_delta = layer_2_delta.dot(synapse_1.T) * (layer_1 * (1-layer_1))\n",
    "    synapse_1 -= (alpha * layer_1.T.dot(layer_2_delta))\n",
    "    synapse_0 -= (alpha * X.T.dot(layer_1_delta))"
   ]
  },
  {
   "cell_type": "code",
   "execution_count": 4,
   "metadata": {
    "collapsed": true
   },
   "outputs": [],
   "source": [
    "def sigmoid(x):\n",
    "    output = 1 / (1 + np.exp(-x))\n",
    "    return output"
   ]
  },
  {
   "cell_type": "code",
   "execution_count": 5,
   "metadata": {
    "collapsed": true
   },
   "outputs": [],
   "source": [
    "def sigmoid_output_to_derivative(output):\n",
    "    return output * (1 - output)"
   ]
  },
  {
   "cell_type": "code",
   "execution_count": 6,
   "metadata": {
    "collapsed": true
   },
   "outputs": [],
   "source": [
    "X1 = np.array( [ [0, 1], [0, 1], [1, 0], [1, 0] ])\n",
    "y1 = np.array( [[0, 0, 1, 1]]).T"
   ]
  },
  {
   "cell_type": "code",
   "execution_count": 7,
   "metadata": {
    "collapsed": true
   },
   "outputs": [],
   "source": [
    "np.random.seed(1)"
   ]
  },
  {
   "cell_type": "code",
   "execution_count": 8,
   "metadata": {
    "collapsed": true
   },
   "outputs": [],
   "source": [
    "# initialize weights randomly with mean 0\n",
    "syn_0 = 2 * np.random.random( (2, 1) ) - 1"
   ]
  },
  {
   "cell_type": "code",
   "execution_count": 13,
   "metadata": {
    "collapsed": false,
    "scrolled": true
   },
   "outputs": [
    {
     "name": "stdout",
     "output_type": "stream",
     "text": [
      "Loss:  1.68616414077e-05\n",
      "Loss:  1.58019191401e-05\n",
      "Loss:  1.48673683188e-05\n",
      "Loss:  1.40370603972e-05\n",
      "Loss:  1.32944846773e-05\n",
      "output after traininig:\n",
      "[[ 0.00251266]\n",
      " [ 0.00251266]\n",
      " [ 0.99748737]\n",
      " [ 0.99748737]]\n"
     ]
    }
   ],
   "source": [
    "# one layer that contains 2 neural\n",
    "for iter in range(10000):\n",
    "    # forward propagation:\n",
    "    layer_0 = X1\n",
    "    layer_1 = sigmoid(np.dot(layer_0, syn_0))\n",
    "    \n",
    "    loss =  np.sum(np.square(layer_1 - y1)) / 2\n",
    "    if iter % 2000 == 0:\n",
    "        print(\"Loss: \", loss)\n",
    "    layer_1_error = layer_1 - y1\n",
    "    \n",
    "    layer_1_delta = layer_1_error * sigmoid_output_to_derivative(layer_1)\n",
    "    syn_0_derivative = np.dot(layer_0.T, layer_1_delta)\n",
    "    \n",
    "    # update weights\n",
    "    syn_0 -= syn_0_derivative\n",
    "print(\"output after traininig:\")\n",
    "print(layer_1)"
   ]
  },
  {
   "cell_type": "code",
   "execution_count": 8,
   "metadata": {
    "collapsed": false,
    "scrolled": true
   },
   "outputs": [
    {
     "name": "stdout",
     "output_type": "stream",
     "text": [
      "\n",
      "Training with alpha: 0.001\n",
      "Loss:  0.495186535402\n",
      "Loss:  6.85224212314e-05\n",
      "Loss:  3.20160508308e-05\n",
      "Sync 0:  [[ 4.6013571   4.17197193 -6.30956245 -4.19745118]\n",
      " [-2.58413484 -5.81447929 -6.60793435 -3.68396123]\n",
      " [ 0.97538679 -2.02685775  2.52949751  5.84371739]]\n",
      "sync 0 update direction change:  [[ 1.  1.  0.  0.]\n",
      " [ 2.  0.  0.  2.]\n",
      " [ 4.  2.  1.  1.]]\n",
      "Sync 1:  [[ -6.96765763]\n",
      " [  7.14101949]\n",
      " [-10.31917382]\n",
      " [  7.86128405]]\n",
      "Sync 1 update direction change:  [[ 2.]\n",
      " [ 1.]\n",
      " [ 0.]\n",
      " [ 1.]]\n",
      "\n",
      "Training with alpha: 0.01\n",
      "Loss:  0.495186535402\n",
      "Loss:  6.85224212314e-05\n",
      "Loss:  3.20160508308e-05\n",
      "Sync 0:  [[ 4.6013571   4.17197193 -6.30956245 -4.19745118]\n",
      " [-2.58413484 -5.81447929 -6.60793435 -3.68396123]\n",
      " [ 0.97538679 -2.02685775  2.52949751  5.84371739]]\n",
      "sync 0 update direction change:  [[ 1.  1.  0.  0.]\n",
      " [ 2.  0.  0.  2.]\n",
      " [ 4.  2.  1.  1.]]\n",
      "Sync 1:  [[ -6.96765763]\n",
      " [  7.14101949]\n",
      " [-10.31917382]\n",
      " [  7.86128405]]\n",
      "Sync 1 update direction change:  [[ 2.]\n",
      " [ 1.]\n",
      " [ 0.]\n",
      " [ 1.]]\n",
      "\n",
      "Training with alpha: 0.1\n",
      "Loss:  0.495186535402\n",
      "Loss:  6.85224212314e-05\n",
      "Loss:  3.20160508308e-05\n",
      "Sync 0:  [[ 4.6013571   4.17197193 -6.30956245 -4.19745118]\n",
      " [-2.58413484 -5.81447929 -6.60793435 -3.68396123]\n",
      " [ 0.97538679 -2.02685775  2.52949751  5.84371739]]\n",
      "sync 0 update direction change:  [[ 1.  1.  0.  0.]\n",
      " [ 2.  0.  0.  2.]\n",
      " [ 4.  2.  1.  1.]]\n",
      "Sync 1:  [[ -6.96765763]\n",
      " [  7.14101949]\n",
      " [-10.31917382]\n",
      " [  7.86128405]]\n",
      "Sync 1 update direction change:  [[ 2.]\n",
      " [ 1.]\n",
      " [ 0.]\n",
      " [ 1.]]\n",
      "\n",
      "Training with alpha: 1\n",
      "Loss:  0.495186535402\n",
      "Loss:  6.85224212314e-05\n",
      "Loss:  3.20160508308e-05\n",
      "Sync 0:  [[ 4.6013571   4.17197193 -6.30956245 -4.19745118]\n",
      " [-2.58413484 -5.81447929 -6.60793435 -3.68396123]\n",
      " [ 0.97538679 -2.02685775  2.52949751  5.84371739]]\n",
      "sync 0 update direction change:  [[ 1.  1.  0.  0.]\n",
      " [ 2.  0.  0.  2.]\n",
      " [ 4.  2.  1.  1.]]\n",
      "Sync 1:  [[ -6.96765763]\n",
      " [  7.14101949]\n",
      " [-10.31917382]\n",
      " [  7.86128405]]\n",
      "Sync 1 update direction change:  [[ 2.]\n",
      " [ 1.]\n",
      " [ 0.]\n",
      " [ 1.]]\n",
      "\n",
      "Training with alpha: 10\n",
      "Loss:  0.495186535402\n",
      "Loss:  6.85224212314e-05\n",
      "Loss:  3.20160508308e-05\n",
      "Sync 0:  [[ 4.6013571   4.17197193 -6.30956245 -4.19745118]\n",
      " [-2.58413484 -5.81447929 -6.60793435 -3.68396123]\n",
      " [ 0.97538679 -2.02685775  2.52949751  5.84371739]]\n",
      "sync 0 update direction change:  [[ 1.  1.  0.  0.]\n",
      " [ 2.  0.  0.  2.]\n",
      " [ 4.  2.  1.  1.]]\n",
      "Sync 1:  [[ -6.96765763]\n",
      " [  7.14101949]\n",
      " [-10.31917382]\n",
      " [  7.86128405]]\n",
      "Sync 1 update direction change:  [[ 2.]\n",
      " [ 1.]\n",
      " [ 0.]\n",
      " [ 1.]]\n",
      "\n",
      "Training with alpha: 100\n",
      "Loss:  0.495186535402\n",
      "Loss:  6.85224212314e-05\n",
      "Loss:  3.20160508308e-05\n",
      "Sync 0:  [[ 4.6013571   4.17197193 -6.30956245 -4.19745118]\n",
      " [-2.58413484 -5.81447929 -6.60793435 -3.68396123]\n",
      " [ 0.97538679 -2.02685775  2.52949751  5.84371739]]\n",
      "sync 0 update direction change:  [[ 1.  1.  0.  0.]\n",
      " [ 2.  0.  0.  2.]\n",
      " [ 4.  2.  1.  1.]]\n",
      "Sync 1:  [[ -6.96765763]\n",
      " [  7.14101949]\n",
      " [-10.31917382]\n",
      " [  7.86128405]]\n",
      "Sync 1 update direction change:  [[ 2.]\n",
      " [ 1.]\n",
      " [ 0.]\n",
      " [ 1.]]\n",
      "\n",
      "Training with alpha: 1000\n",
      "Loss:  0.495186535402\n",
      "Loss:  6.85224212314e-05\n",
      "Loss:  3.20160508308e-05\n",
      "Sync 0:  [[ 4.6013571   4.17197193 -6.30956245 -4.19745118]\n",
      " [-2.58413484 -5.81447929 -6.60793435 -3.68396123]\n",
      " [ 0.97538679 -2.02685775  2.52949751  5.84371739]]\n",
      "sync 0 update direction change:  [[ 1.  1.  0.  0.]\n",
      " [ 2.  0.  0.  2.]\n",
      " [ 4.  2.  1.  1.]]\n",
      "Sync 1:  [[ -6.96765763]\n",
      " [  7.14101949]\n",
      " [-10.31917382]\n",
      " [  7.86128405]]\n",
      "Sync 1 update direction change:  [[ 2.]\n",
      " [ 1.]\n",
      " [ 0.]\n",
      " [ 1.]]\n"
     ]
    }
   ],
   "source": [
    "alphas = [0.001,0.01,0.1,1,10,100,1000]\n",
    "X = np.array([ [0,0,1],[0,1,1],[1,0,1],[1,1,1] ])\n",
    "y = np.array([[0,1,1,0]]).T\n",
    "for alpha in alphas:\n",
    "    print(\"\\nTraining with alpha: \" + str(alpha))\n",
    "    np.random.seed(1)\n",
    "    \n",
    "    syn_0 = 2 * np.random.random( (3, 4) ) - 1\n",
    "    syn_1 = 2 * np.random.random( (4, 1) ) - 1\n",
    "    \n",
    "    prev_sync_0_weight_update = np.zeros_like(syn_0)\n",
    "    prev_sync_1_weight_update = np.zeros_like(syn_1)\n",
    "    \n",
    "    syn_0_direction_count = np.zeros_like(syn_0)\n",
    "    syn_1_direction_count = np.zeros_like(syn_1)\n",
    "    \n",
    "    for j in range(60000):\n",
    "        layer_0 = X\n",
    "        layer_1 = sigmoid(np.dot(layer_0, syn_0))\n",
    "        layer_2 = sigmoid(np.dot(layer_1, syn_1))\n",
    "        \n",
    "        loss = np.sum(np.square(layer_2 - y)) / 2\n",
    "        if j % 20000 == 0:\n",
    "            print(\"Loss: \", loss)\n",
    "        \n",
    "        layer_2_error = layer_2 - y\n",
    "        \n",
    "        layer_2_delta = layer_2_error * sigmoid_output_to_derivative(layer_2)\n",
    "        \n",
    "        layer_1_error = layer_2_delta.dot(syn_1.T)\n",
    "        \n",
    "        layer_1_delta = layer_1_error * sigmoid_output_to_derivative(layer_1)\n",
    "        \n",
    "        syn_1_weight_update = (layer_1.T.dot(layer_2_delta))\n",
    "        syn_0_weight_update = (layer_0.T.dot(layer_1_delta))\n",
    "        \n",
    "        if (j > 0):\n",
    "            syn_0_direction_count += np.abs(((syn_0_weight_update > 0) + 0) - ((prev_sync_0_weight_update > 0) + 0))\n",
    "            syn_1_direction_count += np.abs(((syn_1_weight_update > 0) + 0) - ((prev_sync_1_weight_update > 0) + 0))\n",
    "        \n",
    "        syn_1 -= syn_1_weight_update\n",
    "        syn_0 -= syn_0_weight_update\n",
    "        \n",
    "        prev_sync_0_weight_update = syn_0_weight_update\n",
    "        prev_sync_1_weight_update = syn_1_weight_update\n",
    "        \n",
    "    print(\"Sync 0: \", syn_0)\n",
    "    print(\"sync 0 update direction change: \", syn_0_direction_count)\n",
    "    print(\"Sync 1: \", syn_1)\n",
    "    print(\"Sync 1 update direction change: \", syn_1_direction_count)"
   ]
  },
  {
   "cell_type": "code",
   "execution_count": null,
   "metadata": {
    "collapsed": true
   },
   "outputs": [],
   "source": []
  }
 ],
 "metadata": {
  "kernelspec": {
   "display_name": "Python 3",
   "language": "python",
   "name": "python3"
  },
  "language_info": {
   "codemirror_mode": {
    "name": "ipython",
    "version": 3
   },
   "file_extension": ".py",
   "mimetype": "text/x-python",
   "name": "python",
   "nbconvert_exporter": "python",
   "pygments_lexer": "ipython3",
   "version": "3.5.2"
  }
 },
 "nbformat": 4,
 "nbformat_minor": 2
}
