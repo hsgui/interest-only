{
 "cells": [
  {
   "cell_type": "code",
   "execution_count": null,
   "metadata": {
    "collapsed": true
   },
   "outputs": [],
   "source": [
    "'''\n",
    "http://iamtrask.github.io/2016/02/25/deepminds-neural-stack-machine/\n",
    "http://machinaut.com/a-graphical-explanation-of-deepminds-neural-stacks/\n",
    "'''"
   ]
  },
  {
   "cell_type": "code",
   "execution_count": 1,
   "metadata": {
    "collapsed": true
   },
   "outputs": [],
   "source": [
    "import numpy as np"
   ]
  },
  {
   "cell_type": "code",
   "execution_count": 2,
   "metadata": {
    "collapsed": true
   },
   "outputs": [],
   "source": [
    "def s_t(i, t, u, d):\n",
    "    if (i >= 0 and i < t):\n",
    "        # when calculate the strength, the newest pushed row is not included\n",
    "        inner_sum = sum(s[t-1][i+1:t])\n",
    "        out = max(0, s[t-1][i] - max(0, u[t] - inner_sum))\n",
    "        # out >= 0\n",
    "        return out\n",
    "    elif (i == t):\n",
    "        return d[t]\n",
    "    else:\n",
    "        print(\"Undefined i -> t relationship: i <= t\")"
   ]
  },
  {
   "cell_type": "code",
   "execution_count": 20,
   "metadata": {
    "collapsed": false
   },
   "outputs": [],
   "source": [
    "def s_t_error(i, t, u, d, error):\n",
    "    if (i >= 0 and i < t):     \n",
    "        partial_sum = sum(s[t-1][i+1:t])\n",
    "        if abs(s[t-1][i] - max(0, u[t] - partial_sum)) >= 1e-10:\n",
    "            s_delta[t-1][i] += error\n",
    "            if abs(u[t] - partial_sum) >= 1e-10:\n",
    "                s_delta[t-1][i+1:t-1] += error\n",
    "                u_delta[t] -= error\n",
    "    elif i == t:\n",
    "        d_delta[t] += error\n",
    "    else:\n",
    "        print(\"Undefined!\")"
   ]
  },
  {
   "cell_type": "code",
   "execution_count": 4,
   "metadata": {
    "collapsed": true
   },
   "outputs": [],
   "source": [
    "# when read from the stack, the newest pushed row is included\n",
    "def r_t(t):\n",
    "    r_t_out = np.zeros(stack_width)\n",
    "    for i in range(0, t+1):\n",
    "        temp = min(s[t][i], max(0, 1 - sum(s[t][i+1:t+1])))\n",
    "        r_t_out += temp * V[t][i]\n",
    "    return r_t_out"
   ]
  },
  {
   "cell_type": "code",
   "execution_count": 5,
   "metadata": {
    "collapsed": true
   },
   "outputs": [],
   "source": [
    "def r_t_error(t, r_t_error):\n",
    "    for i in range(0, t+1):\n",
    "        partial_sum = np.sum(s[t][i+1:t+1])\n",
    "        temp = min(s[t][i], max(0, 1 - partial_sum))\n",
    "        \n",
    "        # get the delta for V\n",
    "        V_delta[t][i] += temp * r_t_error\n",
    "        \n",
    "        # total derivative with respect to s[t][i]\n",
    "        # r_t_error is d(TotalError_t)/dr_t, r_t_error is a vector of stack_width elements\n",
    "        # we would like to get d(TotalError_t)/d_s_t_i\n",
    "        # and s_t[i] impacts every element in V[t][i]\n",
    "        # This is the total derivative with respect to s[t][i]\n",
    "        # element-wise multiple\n",
    "        temp_error = sum(r_t_error * V[t][i])\n",
    "        if (s[t][i] < max(0, 1 - partial_sum)):\n",
    "            s_delta[t][i] += temp_error\n",
    "        else:\n",
    "            if (max(0, 1 - partial_sum) > 0):\n",
    "                # here -= temp_error applied to elements from i+1 to t in s[t]\n",
    "                s_delta[t][i+1:t] -= temp_error"
   ]
  },
  {
   "cell_type": "code",
   "execution_count": 6,
   "metadata": {
    "collapsed": false
   },
   "outputs": [],
   "source": [
    "def pushAndPop(v_t, d_t, u_t, t):\n",
    "    d.append(d_t)\n",
    "    u.append(u_t)\n",
    "    \n",
    "    new_s = np.zeros(t+1)\n",
    "    for i in range(t+1):\n",
    "        new_s[i] = s_t(i, t, u, d)\n",
    "    s.append(new_s)\n",
    "    \n",
    "    if (len(V) == 0):\n",
    "        V_t = np.zeros((1, stack_width))\n",
    "        V_t += v_t\n",
    "    else:\n",
    "        # V[-1] is the memory snapshot in the last timestamp\n",
    "        depth = len(V[-1])\n",
    "        # the new memory will add one more row: the depth will increase by 1\n",
    "        # the difference from the last memory snapshot is adding one more row\n",
    "        V_t = np.zeros((depth+1, stack_width))\n",
    "        for i in range(depth):\n",
    "            V_t[i] += V[-1][i]\n",
    "        # the newest row is v_t, which is a list of stack_width elements\n",
    "        V_t[depth] += v_t\n",
    "    \n",
    "    V.append(V_t)\n",
    "    # read from the stack including the newest row\n",
    "    return r_t(t)"
   ]
  },
  {
   "cell_type": "code",
   "execution_count": 7,
   "metadata": {
    "collapsed": true
   },
   "outputs": [],
   "source": [
    "def pushAndPopDeriv(v_t, d_t, u_t, t, deriv=False, error=None):\n",
    "    if not deriv:\n",
    "        d.append(d_t)\n",
    "        d_delta.append(0)\n",
    "        \n",
    "        u.append(u_t)\n",
    "        u_delta.append(0)\n",
    "        \n",
    "        new_s = np.zeros(t+1)\n",
    "        for i in range(t+1):\n",
    "            new_s[i] = s_t(i, t, u, d)\n",
    "        s.append(new_s)\n",
    "        s_delta.append(np.zeros(new_s.shape[0]))\n",
    "        \n",
    "        if len(V) == 0:\n",
    "            V_t = np.zeros((1, stack_width))\n",
    "            # V_t += v_t\n",
    "        else:\n",
    "            depth = len(V[-1])\n",
    "            V_t = np.zeros((depth + 1, stack_width))\n",
    "            for i in range(depth):\n",
    "                V_t[i] += V[-1][i]\n",
    "            V_t[depth] += v_t\n",
    "        V.append(V_t)\n",
    "        V_delta.append(np.zeros(V[-1].shape))\n",
    "        \n",
    "        return r_t(t)\n",
    "    else:\n",
    "        r_t_error(t, error)\n",
    "        for i in range(t+1):\n",
    "            s_t_error((t+1) - i - 1, t, u, d, s_delta[t][i])"
   ]
  },
  {
   "cell_type": "code",
   "execution_count": 8,
   "metadata": {
    "collapsed": false
   },
   "outputs": [
    {
     "name": "stdout",
     "output_type": "stream",
     "text": [
      "[ 0.8  0.   0. ]\n",
      "[ 0.5  0.5  0. ]\n",
      "[ 0.1  0.   0.9]\n",
      "\n",
      "Final Value of S:\n",
      "0.9\n",
      "0\n",
      "0.3\n",
      "\n",
      "Passed All Assertions!!!\n"
     ]
    }
   ],
   "source": [
    "stack_width = 3\n",
    "copy_length = 5\n",
    "\n",
    "v_0 = np.zeros(stack_width)\n",
    "v_0[0] = 1\n",
    "v_1 = np.zeros(stack_width)\n",
    "v_1[1] = 1\n",
    "v_2 = np.zeros(stack_width)\n",
    "v_2[2] = 1\n",
    "\n",
    "# init\n",
    "V = list() # stack states\n",
    "s = list() # stack strengths\n",
    "d = list() # push strengths\n",
    "u = list() # pop strengths\n",
    "\n",
    "print(str(pushAndPop(v_0,0.8,0.0,0)))\n",
    "print(str(pushAndPop(v_1,0.5,0.1,1)))\n",
    "print(str(pushAndPop(v_2,0.9,0.9,2)))\n",
    "\n",
    "# Stack is empty again\n",
    "V = list() # stack states\n",
    "s = list() # stack strengths \n",
    "d = list() # push strengths\n",
    "u = list() # pop strengths\n",
    "\n",
    "assert str(pushAndPop(v_0,0.8,0.0,0)) == str((0.8 * v_0))\n",
    "assert str(pushAndPop(v_1,0.5,0.1,1)) == str((0.5 * v_0) + (0.5 * v_1))\n",
    "assert str(pushAndPop(v_2,0.9,0.9,2)) == str((0.9 * v_2) + (0 * v_1) + (0.1 * v_0))\n",
    "\n",
    "print(\"\\nFinal Value of S:\")\n",
    "for i in range(3):\n",
    "  print(s_t(2-i,2,u,d))\n",
    "\n",
    "print(\"\\nPassed All Assertions!!!\")"
   ]
  },
  {
   "cell_type": "code",
   "execution_count": 47,
   "metadata": {
    "collapsed": false,
    "scrolled": true
   },
   "outputs": [
    {
     "name": "stdout",
     "output_type": "stream",
     "text": [
      "\n",
      "Iteration: 0\n",
      "0.0 0.0 0.0\n",
      "\n",
      "Iteration: 500\n",
      "0.0 0.0 0.0\n",
      "\n",
      "Iteration: 1000\n",
      "0.0 0.0 0.0\n",
      "\n",
      "Iteration: 1500\n",
      "0.0 0.0 0.0\n",
      "\n",
      "Iteration: 2000\n",
      "0.0 0.0 0.0\n",
      "\n",
      "Iteration: 2500\n",
      "0.0 0.0 0.0\n",
      "\n",
      "Iteration: 3000\n",
      "0.0 0.0 0.0\n"
     ]
    }
   ],
   "source": [
    "u_weights = np.array([0.1,0.1,0.1,0.1,0.1,0.1])\n",
    "# push the 3 sequences onto the stack with strength of 1\n",
    "# try different d_weights initialize, the result is different. need understand why\n",
    "d_weights = np.array([0.1,0.1,.1,0.1,0.1,0.1])\n",
    "stack_width = 2\n",
    "copy_length = 5\n",
    "\n",
    "# INIT\n",
    "V = list() # stack states\n",
    "s = list() # stack strengths \n",
    "d = list() # push strengths\n",
    "u = list() # pop strengths\n",
    "\n",
    "V_delta = list() # stack states\n",
    "s_delta = list() # stack strengths \n",
    "d_delta = list() # push strengths\n",
    "u_delta = list() # pop strengths\n",
    "\n",
    "for i in range(3001):\n",
    "    alpha = 5 * ( (1 - (float(i)/500)) ** 2)\n",
    "    sequence = np.array([[0.1, 0.2, 0.3], [0, 0, 0]]).T\n",
    "    \n",
    "    # RE-INITIALIZE WEIGHTS (empty the stack and strengths)\n",
    "    V = list() # stack states\n",
    "    s = list() # stack strengths \n",
    "    d = list() # push strengths\n",
    "    u = list() # pop strengths\n",
    "\n",
    "    V_delta = list() # stack states\n",
    "    s_delta = list() # stack strengths \n",
    "    d_delta = list() # push strengths\n",
    "    u_delta = list() # pop strengths\n",
    "    \n",
    "    # forward propagation\n",
    "    out_0 = pushAndPopDeriv(sequence[0], d_weights[0], u_weights[0], 0)\n",
    "    out_1 = pushAndPopDeriv(sequence[1], d_weights[1], u_weights[1], 1)\n",
    "    out_2 = pushAndPopDeriv(sequence[2], d_weights[2], u_weights[2], 2)\n",
    "    \n",
    "    out_3 = pushAndPopDeriv(np.zeros(2), d_weights[3], u_weights[3], t=3)\n",
    "    out_4 = pushAndPopDeriv(np.zeros(2), d_weights[4], u_weights[4], t=4)\n",
    "    out_5 = pushAndPopDeriv(np.zeros(2), d_weights[5], u_weights[5], t=5)\n",
    "    \n",
    "    # backward propagation\n",
    "    y = np.array([1, 0])\n",
    "    \n",
    "    pushAndPopDeriv(sequence[2], d_weights[2], u_weights[2], 2, deriv=True, error = out_0 - 0)\n",
    "    pushAndPopDeriv(sequence[1], d_weights[1], u_weights[1], 1, deriv=True, error = out_1 - 0)\n",
    "    pushAndPopDeriv(sequence[0], d_weights[0], u_weights[0], 0, deriv=True, error = out_2 - 0)\n",
    "    \n",
    "    pushAndPopDeriv(np.zeros(2), d_weights[5], u_weights[5], 5, deriv=True, error = out_5 - y*0.1)\n",
    "    pushAndPopDeriv(np.zeros(2), d_weights[4], u_weights[4], 4, deriv=True, error = out_4 - y*0.2)\n",
    "    pushAndPopDeriv(np.zeros(2), d_weights[3], u_weights[3], 3, deriv=True, error = out_3 - y*0.3)\n",
    "    \n",
    "    alpha = 0.2\n",
    "    \n",
    "    u_weights[0] -= alpha * u_delta[0]\n",
    "    u_weights[1] -= alpha * u_delta[1]\n",
    "    u_weights[2] -= alpha * u_delta[2]\n",
    "    \n",
    "    u_weights[3] -= alpha * u_delta[3]\n",
    "    u_weights[4] -= alpha * u_delta[4]\n",
    "    u_weights[5] -= alpha * u_delta[5]\n",
    "    \n",
    "    d_weights[2] -= alpha * d_delta[2]\n",
    "    d_weights[1] -= alpha * d_delta[1]\n",
    "    d_weights[0] -= alpha * d_delta[0]    \n",
    "    \n",
    "    d_weights[3] -= alpha * d_delta[3]\n",
    "    d_weights[4] -= alpha * d_delta[4]\n",
    "    d_weights[5] -= alpha * d_delta[5]\n",
    "    \n",
    "    for k in range(len(d_weights)):\n",
    "        if d_weights[k] < 0:\n",
    "            d_weights[k] = 0\n",
    "        elif d_weights[k] > 1:\n",
    "            d_weights[k] = 1\n",
    "            \n",
    "        if u_weights[k] < 0:\n",
    "            u_weights[k] = 0\n",
    "        elif u_weights[k] > 1:\n",
    "            u_weights[k] = 1\n",
    "    \n",
    "    if i % 500 == 0:\n",
    "        print(\"\\nIteration:\", i)\n",
    "        # print u_delta\n",
    "        print(out_3[0], out_4[0], out_5[0])"
   ]
  },
  {
   "cell_type": "code",
   "execution_count": null,
   "metadata": {
    "collapsed": true
   },
   "outputs": [],
   "source": []
  }
 ],
 "metadata": {
  "kernelspec": {
   "display_name": "Python 3",
   "language": "python",
   "name": "python3"
  },
  "language_info": {
   "codemirror_mode": {
    "name": "ipython",
    "version": 3
   },
   "file_extension": ".py",
   "mimetype": "text/x-python",
   "name": "python",
   "nbconvert_exporter": "python",
   "pygments_lexer": "ipython3",
   "version": "3.5.2"
  }
 },
 "nbformat": 4,
 "nbformat_minor": 2
}
