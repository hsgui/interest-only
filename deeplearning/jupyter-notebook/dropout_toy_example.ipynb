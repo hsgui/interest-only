{
 "cells": [
  {
   "cell_type": "code",
   "execution_count": null,
   "metadata": {
    "collapsed": true
   },
   "outputs": [],
   "source": [
    "'''\n",
    "http://iamtrask.github.io/2015/07/28/dropout/\n",
    "'''"
   ]
  },
  {
   "cell_type": "code",
   "execution_count": 6,
   "metadata": {
    "collapsed": true
   },
   "outputs": [],
   "source": [
    "import numpy as np"
   ]
  },
  {
   "cell_type": "code",
   "execution_count": 11,
   "metadata": {
    "collapsed": false
   },
   "outputs": [
    {
     "name": "stdout",
     "output_type": "stream",
     "text": [
      "Iteration:  0 , Loss:  0.147257103861\n",
      "Iteration:  10000 , Loss:  0.0331990191464\n",
      "Iteration:  20000 , Loss:  0.0172530383521\n",
      "Iteration:  30000 , Loss:  0.00217097775951\n",
      "Iteration:  40000 , Loss:  0.0236227499088\n",
      "Iteration:  50000 , Loss:  0.0383041403337\n",
      "Iteration:  60000 , Loss:  0.0529344291492\n"
     ]
    }
   ],
   "source": [
    "X = np.array([ [0,0,1],[0,1,1],[1,0,1],[1,1,1] ])\n",
    "y = np.array([[0,1,1,0]]).T\n",
    "alpha, hidden_dim, dropout_percent, do_dropout = (0.5, 4, 0.2, True)\n",
    "\n",
    "synapse_0 = 2*np.random.random((3,hidden_dim)) - 1\n",
    "synapse_1 = 2*np.random.random((hidden_dim,1)) - 1\n",
    "for j in range(60001):\n",
    "    layer_1 = 1 / (1 + np.exp(-(np.dot(X,synapse_0))))\n",
    "    if do_dropout:\n",
    "        layer_1 *= np.random.binomial([np.ones((len(X), hidden_dim))], 1 - dropout_percent)[0] * (1.0 / (1 - dropout_percent))\n",
    "    layer_2 = 1 / (1 + np.exp(-(np.dot(layer_1,synapse_1))))\n",
    "    layer_2_delta = (layer_2 - y) * (layer_2*(1-layer_2))\n",
    "    layer_1_delta = layer_2_delta.dot(synapse_1.T) * (layer_1 * (1-layer_1))\n",
    "    synapse_1 -= (alpha * layer_1.T.dot(layer_2_delta))\n",
    "    synapse_0 -= (alpha * X.T.dot(layer_1_delta))\n",
    "    if j % 10000 == 0:\n",
    "        loss = np.mean(np.square(layer_2 - y)) / 2\n",
    "        print(\"Iteration: \", j, \", Loss: \", loss)"
   ]
  },
  {
   "cell_type": "code",
   "execution_count": 13,
   "metadata": {
    "collapsed": false
   },
   "outputs": [],
   "source": [
    "a = np.random.binomial([2,3], 0.7)"
   ]
  },
  {
   "cell_type": "code",
   "execution_count": 14,
   "metadata": {
    "collapsed": false
   },
   "outputs": [
    {
     "name": "stdout",
     "output_type": "stream",
     "text": [
      "[1 2]\n"
     ]
    }
   ],
   "source": [
    "print(a)"
   ]
  }
 ],
 "metadata": {
  "kernelspec": {
   "display_name": "Python 3",
   "language": "python",
   "name": "python3"
  },
  "language_info": {
   "codemirror_mode": {
    "name": "ipython",
    "version": 3
   },
   "file_extension": ".py",
   "mimetype": "text/x-python",
   "name": "python",
   "nbconvert_exporter": "python",
   "pygments_lexer": "ipython3",
   "version": "3.5.2"
  }
 },
 "nbformat": 4,
 "nbformat_minor": 2
}
